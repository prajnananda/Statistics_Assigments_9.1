{
 "cells": [
  {
   "cell_type": "markdown",
   "metadata": {},
   "source": [
    "Task1 :\n",
    "\n",
    "Q1: You survey households in your area to find the average rent they are paying. Find the standard deviation from the following data: $1550, $1700, $900, $850, $1000, $950.\n",
    "\n",
    "Q2: Find the variance for the following set of data representing trees in California (heights in feet): 3, 21, 98, 203, 17, 9\n",
    "\n",
    "Q3: In a class on 100 students, 80 students passed in all subjects, 10 failed in one subject, 7 failed in two subjects and 3 failed in three subjects. Find the probability distribution of the variable for number of subjects a student from the given class has failed in."
   ]
  },
  {
   "cell_type": "code",
   "execution_count": 1,
   "metadata": {},
   "outputs": [],
   "source": [
    "import numpy as np"
   ]
  },
  {
   "cell_type": "markdown",
   "metadata": {},
   "source": [
    "Q1: You survey households in your area to find the average rent they are paying. Find the standard deviation from the following data: $1550, $1700, $900, $850, $1000, $950."
   ]
  },
  {
   "cell_type": "code",
   "execution_count": 2,
   "metadata": {},
   "outputs": [
    {
     "name": "stdout",
     "output_type": "stream",
     "text": [
      "Average rent paid by the householdsfor the sample information collected :  1155.56\n",
      "The limits of data pertaining to rent paid by the houesholds is +/- : 320.11\n"
     ]
    }
   ],
   "source": [
    "x = [1550,1550,1700, 900,900,850, 1000,1000,950]\n",
    "Avg_rent_paid = np.mean(x)\n",
    "std_dev = np.std(x)\n",
    "\n",
    "print('Average rent paid by the householdsfor the sample information collected :  {:0.2f}'.format(Avg_rent_paid))\n",
    "print('The limits of data pertaining to rent paid by the houesholds is +/- : {:0.2f}'.format(std_dev))"
   ]
  },
  {
   "cell_type": "markdown",
   "metadata": {},
   "source": [
    "Average rent paid by the householdsfor the sample information collected :  1155.56\n",
    "The limits of data pertaining to rent paid by the houesholds is +/- : 320.11\n",
    "Q2:Find the variance for the following set of data representing trees in California (heights in feet): 3, 21, 98, 203, 17, 9"
   ]
  },
  {
   "cell_type": "code",
   "execution_count": 3,
   "metadata": {},
   "outputs": [
    {
     "name": "stdout",
     "output_type": "stream",
     "text": [
      "The spread of data pertaining to the height of trees is : 5183.25\n"
     ]
    }
   ],
   "source": [
    "#x : height of trees in feet\n",
    "x = [3, 21, 98, 203, 17, 9]\n",
    "variance = np.var(x)\n",
    "\n",
    "print(\"The spread of data pertaining to the height of trees is : {:0.2f}\".format(variance))"
   ]
  },
  {
   "cell_type": "markdown",
   "metadata": {},
   "source": [
    "The spread of data pertaining to the height of trees is : 5183.25\n",
    "Q3:In a class on 100 students, 80 students passed in all subjects, 10 failed in one subject, 7 failed in two subjects and 3 failed in three subjects. Find the probability distribution of the variable for number of subjects a student from the given class has failed in."
   ]
  },
  {
   "cell_type": "code",
   "execution_count": 4,
   "metadata": {},
   "outputs": [
    {
     "name": "stdout",
     "output_type": "stream",
     "text": [
      "Probability failed in no subjects:  0.8\n",
      "Probability failed in 1 subject:  0.1\n",
      "Probability failed in 2 subjects:  0.07\n",
      "Probability failed in 3 subjects:  0.03\n"
     ]
    }
   ],
   "source": [
    "import matplotlib.pyplot as plt\n",
    "%matplotlib inline\n",
    "n_students = 100\n",
    "passed_all = 80\n",
    "failed_one = 10\n",
    "failed_two = 7\n",
    "failed_three = 3\n",
    "\n",
    "num_students_not_passed_all = n_students - passed_all\n",
    "prob_failed_none = passed_all / n_students\n",
    "prob_failed_in_one = failed_one/n_students\n",
    "prob_failed_in_two = failed_two/n_students\n",
    "prob_failed_in_three = failed_three/n_students\n",
    "\n",
    "print(\"Probability failed in no subjects: \",prob_failed_none)\n",
    "print(\"Probability failed in 1 subject: \",prob_failed_in_one)\n",
    "print(\"Probability failed in 2 subjects: \",prob_failed_in_two)\n",
    "print(\"Probability failed in 3 subjects: \",prob_failed_in_three)"
   ]
  },
  {
   "cell_type": "code",
   "execution_count": null,
   "metadata": {},
   "outputs": [],
   "source": []
  }
 ],
 "metadata": {
  "kernelspec": {
   "display_name": "Python 3",
   "language": "python",
   "name": "python3"
  },
  "language_info": {
   "codemirror_mode": {
    "name": "ipython",
    "version": 3
   },
   "file_extension": ".py",
   "mimetype": "text/x-python",
   "name": "python",
   "nbconvert_exporter": "python",
   "pygments_lexer": "ipython3",
   "version": "3.6.4"
  }
 },
 "nbformat": 4,
 "nbformat_minor": 2
}
